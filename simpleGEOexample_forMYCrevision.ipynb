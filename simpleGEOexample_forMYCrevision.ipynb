{
  "nbformat": 4,
  "nbformat_minor": 0,
  "metadata": {
    "colab": {
      "name": "simpleGEOexample_forMYCrevision.ipynb",
      "provenance": [],
      "collapsed_sections": [],
      "authorship_tag": "ABX9TyOJ0wEXL1yMFvO3ZEePIjMe",
      "include_colab_link": true
    },
    "kernelspec": {
      "name": "python3",
      "display_name": "Python 3"
    }
  },
  "cells": [
    {
      "cell_type": "markdown",
      "metadata": {
        "id": "view-in-github",
        "colab_type": "text"
      },
      "source": [
        "<a href=\"https://colab.research.google.com/github/dcolinmorgan/MYC/blob/master/simpleGEOexample_forMYCrevision.ipynb\" target=\"_parent\"><img src=\"https://colab.research.google.com/assets/colab-badge.svg\" alt=\"Open In Colab\"/></a>"
      ]
    },
    {
      "cell_type": "code",
      "metadata": {
        "id": "yE0vv4AEBQWh",
        "colab_type": "code",
        "colab": {}
      },
      "source": [
        "!pip install GEOparse"
      ],
      "execution_count": 0,
      "outputs": []
    },
    {
      "cell_type": "code",
      "metadata": {
        "id": "7W8rxmTNBU_C",
        "colab_type": "code",
        "colab": {}
      },
      "source": [
        "import pandas as pd\n",
        "import numpy as np\n",
        "import scipy.stats as ss\n",
        "import statsmodels as sm\n",
        "from scipy import stats\n"
      ],
      "execution_count": 0,
      "outputs": []
    },
    {
      "cell_type": "code",
      "metadata": {
        "id": "744OhJU6BL9N",
        "colab_type": "code",
        "colab": {}
      },
      "source": [
        "import GEOparse\n",
        "gse = GEOparse.get_GEO(geo=\"GSE7307\", destdir=\"./\")\n",
        "gse2 = GEOparse.get_GEO(geo=\"GSE69925\", destdir=\"./\")\n",
        "gse3 = GEOparse.get_GEO(geo=\"GSE2503\", destdir=\"./\")"
      ],
      "execution_count": 0,
      "outputs": []
    },
    {
      "cell_type": "markdown",
      "metadata": {
        "id": "Qp_9aNTmBjrq",
        "colab_type": "text"
      },
      "source": [
        "explore GSE data...phenotype and all"
      ]
    },
    {
      "cell_type": "code",
      "metadata": {
        "id": "sMDmWmLYBjQi",
        "colab_type": "code",
        "colab": {}
      },
      "source": [
        "pd.unique(gse2.phenotype_data['source_name_ch1']) ##cancer types for this dataset"
      ],
      "execution_count": 0,
      "outputs": []
    },
    {
      "cell_type": "code",
      "metadata": {
        "id": "oe9ij5qnBg0M",
        "colab_type": "code",
        "colab": {}
      },
      "source": [
        "##set up expt 1\n",
        "gpl = gse.gpls[next(iter(gse.gpls))]\n",
        "pivoted = gse.pivot_and_annotate(values=\"VALUE\", gpl=gpl, annotation_column=\"Gene Symbol\")\n",
        "merged = gse.merge_and_average(gse.gpls[next(iter(gse.gpls))], \"VALUE\", \"Gene Symbol\", gpl_on=\"ID\", gsm_on=\"ID_REF\")\n",
        "##and 2\n",
        "gpl2 = gse2.gpls[next(iter(gse2.gpls))]\n",
        "pivoted2 = gse2.pivot_and_annotate(values=\"VALUE\", gpl=gpl2, annotation_column=\"Gene Symbol\")\n",
        "merged2 = gse2.merge_and_average(gse2.gpls[next(iter(gse2.gpls))], \"VALUE\", \"Gene Symbol\", gpl_on=\"ID\", gsm_on=\"ID_REF\")\n",
        "##and 3\n",
        "gpl3 = gse3.gpls[next(iter(gse3.gpls))]\n",
        "pivoted3 = gse3.pivot_and_annotate(values=\"VALUE\", gpl=gpl3, annotation_column=\"Gene Symbol\")\n",
        "merged3 = gse3.merge_and_average(gse3.gpls[next(iter(gse3.gpls))], \"VALUE\", \"Gene Symbol\", gpl_on=\"ID\", gsm_on=\"ID_REF\")"
      ],
      "execution_count": 0,
      "outputs": []
    },
    {
      "cell_type": "code",
      "metadata": {
        "id": "iWQRE-w1Bzga",
        "colab_type": "code",
        "colab": {}
      },
      "source": [
        "cc=merged3[(merged3.index=='MYC')|( merged3.index=='BRD4')|(merged3.index=='CCNB1')]\n",
        "# cc=cc[cc.columns[gse3.phenotype_data['source_name_ch1'].str.contains('scc')]]\n",
        "# cc=cc[cc.columns[gse2.phenotype_data['source_name_ch1'].str.contains('squamous')]]\n",
        "\n",
        "# cc=cc[cc.columns[gse.phenotype_data['characteristics_ch1.0.Tissue/Cell Line [C]'].str.contains('skin')]]\n",
        "# cc=cc[cc.columns[gse.phenotype_data['characteristics_ch1.1.Disease/Normal or Treatment [C]'].str.contains('skin')]]\n",
        "\n",
        "# characteristics_ch1.0.Tissue/Cell Line characteristics_ch1.1.Disease/Normal or Treatment\n",
        "\n",
        "\n",
        "jj=pd.DataFrame(np.corrcoef(cc))\n",
        "jj.index=['BRD4','CCNB1','MYC']\n",
        "jj.columns=['BRD4','CCNB1','MYC']\n",
        "jj"
      ],
      "execution_count": 0,
      "outputs": []
    },
    {
      "cell_type": "code",
      "metadata": {
        "id": "N2i360muB7QH",
        "colab_type": "code",
        "colab": {}
      },
      "source": [
        "# from statsmodels.stats.multitest import fdrcorrection\n",
        "ss.spearmanr(cc.iloc[0],cc.iloc[1]) ###check spearman correlation between 2 of 3 subset genes ^^ from above\n",
        "ss.spearmanr(cc.iloc[1],cc.iloc[2])\n",
        "ss.pearsonr(cc.iloc[0],cc.iloc[1])\n",
        "ss.pearsonr(cc.iloc[1],cc.iloc[2])\n",
        "# fdrcorrection(ss.spearmanr(cc.iloc[0],cc.iloc[1])[1])"
      ],
      "execution_count": 0,
      "outputs": []
    }
  ]
}