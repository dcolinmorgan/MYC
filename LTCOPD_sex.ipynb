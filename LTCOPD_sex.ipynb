{
  "nbformat": 4,
  "nbformat_minor": 0,
  "metadata": {
    "colab": {
      "name": "LTCOPD_sex",
      "provenance": [],
      "collapsed_sections": [],
      "authorship_tag": "ABX9TyM7mcqomOaL8DZUqTOF43S9",
      "include_colab_link": true
    },
    "kernelspec": {
      "name": "python3",
      "display_name": "Python 3"
    },
    "accelerator": "GPU"
  },
  "cells": [
    {
      "cell_type": "markdown",
      "metadata": {
        "id": "view-in-github",
        "colab_type": "text"
      },
      "source": [
        "<a href=\"https://colab.research.google.com/github/dcolinmorgan/MYC/blob/master/LTCOPD_sex.ipynb\" target=\"_parent\"><img src=\"https://colab.research.google.com/assets/colab-badge.svg\" alt=\"Open In Colab\"/></a>"
      ]
    },
    {
      "cell_type": "code",
      "metadata": {
        "id": "tqU5e6cD0X1i",
        "colab_type": "code",
        "colab": {}
      },
      "source": [
        "import os\n",
        "import s3fs\n",
        "import pandas as pd\n",
        "import numpy as np\n",
        "from psutil import *\n",
        "import matplotlib.pyplot as plt"
      ],
      "execution_count": 0,
      "outputs": []
    },
    {
      "cell_type": "code",
      "metadata": {
        "id": "5hFlC1Uf0bCo",
        "colab_type": "code",
        "colab": {}
      },
      "source": [
        "!pip install cupy-cuda101==7.4.0\n",
        "import cupy as cp\n",
        "# print(cp.__version__)\n",
        "!pip freeze | grep cupy"
      ],
      "execution_count": 0,
      "outputs": []
    },
    {
      "cell_type": "code",
      "metadata": {
        "id": "OxqvrbnT0bFB",
        "colab_type": "code",
        "colab": {}
      },
      "source": [
        "# !git clone https://github.com/netZoo/netZooPy.git\n",
        "!git clone --single-branch --branch devel https://github.com/netZoo/netZooPy.git\n",
        "os.chdir('netZooPy')\n",
        "!pip install -e ./"
      ],
      "execution_count": 0,
      "outputs": []
    },
    {
      "cell_type": "code",
      "metadata": {
        "id": "dVVyHKaL0bIX",
        "colab_type": "code",
        "colab": {}
      },
      "source": [
        "import netZooPy\n",
        "from netZooPy.panda import Panda\n",
        "from netZooPy.lioness import Lioness\n",
        "os.chdir('..')"
      ],
      "execution_count": 0,
      "outputs": []
    },
    {
      "cell_type": "code",
      "metadata": {
        "id": "iX09NjiD0bKc",
        "colab_type": "code",
        "colab": {}
      },
      "source": [
        "!pip install GEOparse"
      ],
      "execution_count": 0,
      "outputs": []
    },
    {
      "cell_type": "code",
      "metadata": {
        "id": "a2nb5HDJ0bMV",
        "colab_type": "code",
        "colab": {}
      },
      "source": [
        "import GEOparse\n",
        "gse = GEOparse.get_GEO(geo=\"GSE76925\", destdir=\"./\")"
      ],
      "execution_count": 0,
      "outputs": []
    },
    {
      "cell_type": "code",
      "metadata": {
        "id": "QVqEHJuQ0bOd",
        "colab_type": "code",
        "colab": {}
      },
      "source": [
        "from google.colab import drive\n",
        "drive.mount('/content/drive')"
      ],
      "execution_count": 0,
      "outputs": []
    },
    {
      "cell_type": "code",
      "metadata": {
        "id": "2pExQ9Pu0let",
        "colab_type": "code",
        "colab": {}
      },
      "source": [
        "# illumina_labels=pd.read_csv('drive/My Drive/Colab Notebooks/illumina_labels.txt',sep=';',header=0)\n",
        "illumina_labels=pd.read_csv('drive/My Drive/Colab Notebooks/GPL10558_illumina_prb_loc.txt',sep='\\t',index_col=0,header=None,names=['loc','symbol'])"
      ],
      "execution_count": 0,
      "outputs": []
    },
    {
      "cell_type": "code",
      "metadata": {
        "id": "hJ92A0TC0lht",
        "colab_type": "code",
        "colab": {}
      },
      "source": [
        "gpl = gse.gpls[next(iter(gse.gpls))]\n",
        "data = gse.pivot_samples(values=\"VALUE\")#, gpl=gpl, annotation_column=\"Symbol\")\n",
        "data.sort_index"
      ],
      "execution_count": 0,
      "outputs": []
    },
    {
      "cell_type": "code",
      "metadata": {
        "id": "DY1toQ6X0lj1",
        "colab_type": "code",
        "colab": {}
      },
      "source": [
        "pheno=gse.phenotype_data.rename(columns={'characteristics_ch1.0.age': 'age',\"characteristics_ch1.1.Sex\":\"sex\",\"characteristics_ch1.3.bmi\":\"bmi\",\"characteristics_ch1.6.fev1.pp\":\"fev1\",\"characteristics_ch1.4.packyears\":\"PY\"})\n",
        "pheno[['age',\"sex\",\"bmi\",\"fev1\",\"PY\"]].to_csv('pheno_data.txt',sep='\\t',index=True,header=True)"
      ],
      "execution_count": 0,
      "outputs": []
    },
    {
      "cell_type": "code",
      "metadata": {
        "id": "Nu6tHmPo0q5I",
        "colab_type": "code",
        "colab": {}
      },
      "source": [
        "data2=data.merge(illumina_labels['symbol'],left_index=True,right_index=True)\n",
        "data2.index=data2['symbol']\n",
        "del data2['symbol']\n",
        "data2.columns=[gse.phenotype_data['characteristics_ch1.1.Sex']+gse.phenotype_data['characteristics_ch1.5.copd']]\n",
        "data2.loc[:,'Mcase'].to_csv('Mcase.txt',sep='\\t',index=True,header=False)\n",
        "data2.loc[:,'Mcont'].to_csv('Mcont.txt',sep='\\t',index=True,header=False)\n",
        "\n",
        "data3=data.merge(illumina_labels,left_index=True,right_index=True)\n",
        "data3.index=data3['symbol']\n",
        "data3=data3[data3['loc']!='Y']\n",
        "del data3['symbol'], data3['loc']\n",
        "data3.columns=[gse.phenotype_data['characteristics_ch1.1.Sex']+gse.phenotype_data['characteristics_ch1.5.copd']]\n",
        "data3.loc[:,'Fcase'].to_csv('Fcase.txt',sep='\\t',index=True,header=False)\n",
        "data3.loc[:,'Fcont'].to_csv('Fcont.txt',sep='\\t',index=True,header=False)"
      ],
      "execution_count": 0,
      "outputs": []
    },
    {
      "cell_type": "code",
      "metadata": {
        "id": "MP5s05AN0q7Z",
        "colab_type": "code",
        "colab": {}
      },
      "source": [
        "LCL_ppi=pd.read_csv('https://granddb.s3.amazonaws.com/optPANDA/ppi/ppi_complete.txt',sep='\\t',header=None)\n",
        "LCL_ppi.to_csv('ppi_complete.txt',sep='\\t',index=False,header=False)\n",
        "\n",
        "coding_LCL_motif=pd.read_csv('https://granddb.s3.amazonaws.com/optPANDA/motifs/Hugo_motifCellLine.txt',sep='\\t',header=None)\n",
        "coding_LCL_motif.to_csv('coding_LCL_motif.txt',sep='\\t',index=False,header=False)\n",
        "\n",
        "motif_data='coding_LCL_motif.txt'\n",
        "ppi_data='ppi_complete.txt'"
      ],
      "execution_count": 0,
      "outputs": []
    },
    {
      "cell_type": "code",
      "metadata": {
        "id": "vh0eSqHB0q95",
        "colab_type": "code",
        "colab": {}
      },
      "source": [
        "# panda_obj1 = Panda('Fcase.txt', motif_data, ppi_data,computing='gpu',precision='single',save_tmp=False,save_memory = True, remove_missing=True, keep_expression_matrix = False,modeProcess = 'intersection')\n",
        "# np.save('Panda_Fcase.npy',panda_obj1.export_panda_results)\n",
        "# del panda_obj1\n",
        "# panda_obj2 = Panda('Mcase.txt', motif_data, ppi_data,computing='gpu',precision='single',save_tmp=False,save_memory = True, remove_missing=True, keep_expression_matrix = False,modeProcess = 'intersection')\n",
        "# np.save('Panda_Mcase.npy',panda_obj2.export_panda_results)\n",
        "# del panda_obj2\n",
        "# panda_obj3 = Panda('Fcont.txt', motif_data, ppi_data,computing='gpu',precision='single',save_tmp=False,save_memory = True, remove_missing=True, keep_expression_matrix = False,modeProcess = 'intersection')\n",
        "# np.save('Panda_Fcont.npy',panda_obj3.export_panda_results)\n",
        "# del panda_obj3\n",
        "# panda_obj4 = Panda('Mcont.txt', motif_data, ppi_data,computing='gpu',precision='single',save_tmp=False,save_memory = True, remove_missing=True, keep_expression_matrix = False,modeProcess = 'intersection')\n",
        "# np.save('Panda_Mcont.npy',panda_obj4.export_panda_results)\n",
        "# del panda_obj4"
      ],
      "execution_count": 0,
      "outputs": []
    },
    {
      "cell_type": "code",
      "metadata": {
        "id": "6AFg-bA00loh",
        "colab_type": "code",
        "colab": {}
      },
      "source": [
        "Panda_Fcase=np.load('drive/My Drive/Panda_Fcase.npy',allow_pickle=True)#,sep='\\t',index_col=0,header=None,names=['loc','symbol'])\n",
        "Panda_Mcase=np.load('drive/My Drive/Panda_Mcase.npy',allow_pickle=True)#,sep='\\t',index_col=0,header=None,names=['loc','symbol'])\n",
        "Panda_Fcont=np.load('drive/My Drive/Panda_Fcont.npy',allow_pickle=True)#,sep='\\t',index_col=0,header=None,names=['loc','symbol'])\n",
        "Panda_Mcont=np.load('drive/My Drive/Panda_Mcont.npy',allow_pickle=True)#,sep='\\t',index_col=0,header=None,names=['loc','symbol'])\n",
        "\n"
      ],
      "execution_count": 0,
      "outputs": []
    },
    {
      "cell_type": "markdown",
      "metadata": {
        "id": "b779HjeBLH60",
        "colab_type": "text"
      },
      "source": [
        "F case V F cont"
      ]
    },
    {
      "cell_type": "code",
      "metadata": {
        "id": "suwmgB9S0lnu",
        "colab_type": "code",
        "colab": {}
      },
      "source": [
        "# panda_obj3.panda_results = pd.DataFrame(panda_obj3.export_panda_results, columns=['tf','gene','motif','force'])\n",
        "# subset_panda_results3 = panda_obj3.panda_results.sort_values(by=['force'], ascending=False)\n",
        "# subset_panda_results3['merge']=subset_panda_results3.tf+'-'+subset_panda_results3.gene\n",
        "\n",
        "# panda_obj1.panda_results = pd.DataFrame(panda_obj1.export_panda_results, columns=['tf','gene','motif','force'])\n",
        "# subset_panda_results1 = panda_obj1.panda_results.sort_values(by=['force'], ascending=False)\n",
        "# subset_panda_results1['merge']=subset_panda_results1.tf+'-'+subset_panda_results1.gene\n",
        "\n",
        "# www=subset_panda_results3.merge(subset_panda_results1, left_on='merge', right_on='merge')\n",
        "# www['diff']=www.force_x-www.force_y\n",
        "# www = www.sort_values(by ='diff' )\n",
        "# # plt.bar(www['diff'])\n",
        "# wwww=www[np.abs(www['diff'])>3]\n",
        "# wwww\n",
        "# len(pd.unique(wwww['tf_x']))\n",
        "# import seaborn as sns\n",
        "# plt.figure(figsize=(12, 30))\n",
        "\n",
        "# g=sns.barplot(x=\"diff\", y=\"merge\", data=wwww)\n",
        "# g.set(xlim=(-4.5, 4.5))\n",
        "# wwww.to_csv('female_caVco.txt')\n",
        "pd.DataFrame([pd.unique(wwww['tf_x']),pd.unique(wwww['gene_x'])]).to_csv('unqiue_female_caVco.txt',sep='\\t',header=None,index=None)"
      ],
      "execution_count": 0,
      "outputs": []
    },
    {
      "cell_type": "markdown",
      "metadata": {
        "id": "luyv5NKFLGJ1",
        "colab_type": "text"
      },
      "source": [
        "M case V M cont"
      ]
    },
    {
      "cell_type": "code",
      "metadata": {
        "id": "T5Rzrnt-LFWo",
        "colab_type": "code",
        "colab": {}
      },
      "source": [
        "# panda_obj4.panda_results = pd.DataFrame(panda_obj4.export_panda_results, columns=['tf','gene','motif','force'])\n",
        "# subset_panda_results4 = panda_obj4.panda_results.sort_values(by=['force'], ascending=False)\n",
        "# subset_panda_results4['merge']=subset_panda_results4.tf+'-'+subset_panda_results4.gene\n",
        "\n",
        "# panda_obj2.panda_results = pd.DataFrame(panda_obj2.export_panda_results, columns=['tf','gene','motif','force'])\n",
        "# subset_panda_results2 = panda_obj2.panda_results.sort_values(by=['force'], ascending=False)\n",
        "# subset_panda_results2['merge']=subset_panda_results2.tf+'-'+subset_panda_results2.gene\n",
        "\n",
        "# ww=subset_panda_results4.merge(subset_panda_results2, left_on='merge', right_on='merge')\n",
        "# ww['diff']=ww.force_x-ww.force_y\n",
        "# ww = ww.sort_values(by ='diff' )\n",
        "\n",
        "# zzzz=ww[np.abs(ww['diff'])>3]\n",
        "# zzzz\n",
        "# len(pd.unique(zzzz['gene_x']))\n",
        "# import seaborn as sns\n",
        "# plt.figure(figsize=(12, 30))\n",
        "\n",
        "# g=sns.barplot(x=\"diff\", y=\"merge\", data=zzzz)\n",
        "# g.set(xlim=(-4.5, 4.5))\n",
        "# zzzz.to_csv('male_caVco.txt')\n",
        "# [pd.unique(zzzz['tf_x']),pd.unique(zzzz['gene_x'])]\n",
        "pd.DataFrame([pd.unique(zzzz['tf_x']),pd.unique(zzzz['gene_x'])]).to_csv('unqiue_male_caVco.txt',sep='\\t',header=None,index=None)"
      ],
      "execution_count": 0,
      "outputs": []
    },
    {
      "cell_type": "code",
      "metadata": {
        "id": "eIGxynt_LLFO",
        "colab_type": "code",
        "colab": {}
      },
      "source": [
        "# sexdiff=wwww.merge(zzzz,left_on='merge', right_on='merge')\n",
        "plt.figure(figsize=(6, 15))\n",
        "sexdiff['sexdiff']=sexdiff['diff_x']-sexdiff['diff_y']\n",
        "sns.barplot(data=sexdiff,x='sexdiff',y='merge')\n",
        "# g=sns.barplot(x=\"diff\", y=\"merge\", data=wwww)\n",
        "# g.set(xlim=(-4.5, 4.5))"
      ],
      "execution_count": 0,
      "outputs": []
    },
    {
      "cell_type": "code",
      "metadata": {
        "id": "RKsIRKmsLNn_",
        "colab_type": "code",
        "colab": {}
      },
      "source": [
        "import networkx as nx"
      ],
      "execution_count": 0,
      "outputs": []
    },
    {
      "cell_type": "code",
      "metadata": {
        "id": "75LudZx2LP9P",
        "colab_type": "code",
        "colab": {}
      },
      "source": [
        "female=nx.from_pandas_edgelist(zzzz, source='tf_x', target='gene_x', edge_attr='diff')\n",
        "# COPD_GWAS_genes = pd.read_csv('drive/My Drive/Colab Notebooks/COPD_gwas_genes.txt',usecols=[0],header=None)\n",
        "# pos = nx.draw_kamada_kawai(female)\n",
        "pos = nx.draw_spectral(female)\n",
        "\n",
        "nx.draw_networkx(female, pos=pos,mfont_size=4, node_color='blue',node_size=300, font_color='white',edge_color='black')\n",
        "# COPD_GWAS_genes"
      ],
      "execution_count": 0,
      "outputs": []
    },
    {
      "cell_type": "code",
      "metadata": {
        "id": "GrddI8H_LP_5",
        "colab_type": "code",
        "colab": {}
      },
      "source": [
        "male=nx.from_pandas_edgelist(wwww, source='tf_x', target='gene_x', edge_attr='diff')\n",
        "# COPD_GWAS_genes = pd.read_csv('drive/My Drive/Colab Notebooks/COPD_gwas_genes.txt',usecols=[0],header=None)\n",
        "pos = nx.draw_spectral(male)\n",
        "nx.draw_networkx(male, pos=pos,font_size=4, node_color='blue',node_size=300, font_color='white',edge_color='black')\n",
        "# COPD_GWAS_genes"
      ],
      "execution_count": 0,
      "outputs": []
    }
  ]
}